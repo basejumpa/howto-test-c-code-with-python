{
 "cells": [
  {
   "cell_type": "code",
   "execution_count": 1,
   "metadata": {},
   "outputs": [],
   "source": [
    "import numpy as np\n",
    "from scipy.integrate import odeint\n",
    "import matplotlib.pyplot as plt\n",
    "%matplotlib inline \n",
    "import iut"
   ]
  },
  {
   "cell_type": "code",
   "execution_count": 3,
   "metadata": {},
   "outputs": [
    {
     "data": {
      "image/png": "[encoded data removed]",
      "text/plain": [
       "<Figure size 432x288 with 2 Axes>"
      ]
     },
     "metadata": {
      "needs_background": "light"
     },
     "output_type": "display_data"
    }
   ],
   "source": [
    "## Circuit T_1\n",
    "\n",
    "R=1.0\n",
    "C=1.0\n",
    "\n",
    "# initial condition\n",
    "y0_0 = 1.0\n",
    "y1_0 = 1.0\n",
    "\n",
    "y0 = [y0_0, y1_0]\n",
    "\n",
    "def u(t):\n",
    "    if t < 5:\n",
    "        return 0.0\n",
    "    else:\n",
    "        return 1.0\n",
    "\n",
    "def circuit_A(y, t):\n",
    "    dydt_1 = 0\n",
    "    dydt_2 = iut.f_u(t)\n",
    "    return [dydt_1, dydt_2]\n",
    "\n",
    "def circuit_B(y, t):\n",
    "    dydt_1 = -1/(R*C)*y[0]\n",
    "    dydt_2 = iut.f_u(t)\n",
    "    return [dydt_1, dydt_2]\n",
    "\n",
    "def circuit_C(y, t):\n",
    "    dydt_1 = -1/(R*C)*y[0] + 1/(R*C)*u(t)\n",
    "    dydt_2 = iut.f_u(t)\n",
    "    return [dydt_1, dydt_2]\n",
    "\n",
    "# function that returns dy/dt\n",
    "def model(y,t):\n",
    "    mode = iut.mode(t)\n",
    "    if mode == 0:\n",
    "        return circuit_C(y, t)\n",
    "    elif mode == 1:\n",
    "        return circuit_A(y, t)\n",
    "    else:\n",
    "        return circuit_B(y, t)\n",
    "\n",
    "\n",
    "# time points\n",
    "t = np.arange(0, 20, 0.1)\n",
    "\n",
    "# solve ODE\n",
    "y = odeint(model,y0,t)\n",
    "\n",
    "# plot results\n",
    "\n",
    "fig, axs = plt.subplots(2)\n",
    "fig.suptitle('Vertically stacked subplots')\n",
    "\n",
    "axs[0].plot(t,y[:,0], '.')\n",
    "axs[1].plot(t,y[:,1], '.')\n",
    "\n",
    "\n",
    "plt.show()"
   ]
  }
 ],
 "metadata": {
  "interpreter": {
   "hash": "e5f4e99f3b5684feda62051db5521445ae8f2549974626a9ec5f9a5c391a5e75"
  },
  "kernelspec": {
   "display_name": "Python 3.10.2 64-bit",
   "language": "python",
   "name": "python3"
  },
  "language_info": {
   "codemirror_mode": {
    "name": "ipython",
    "version": 3
   },
   "file_extension": ".py",
   "mimetype": "text/x-python",
   "name": "python",
   "nbconvert_exporter": "python",
   "pygments_lexer": "ipython3",
   "version": "3.10.2"
  },
  "orig_nbformat": 4
 },
 "nbformat": 4,
 "nbformat_minor": 2
}
